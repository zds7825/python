{
 "cells": [
  {
   "cell_type": "markdown",
   "metadata": {},
   "source": [
    "##문제 1\n",
    "####L = [1, 2, 3, 4, 5]일 때 다음 각 문장을 수행한 후의 결고를 보고 납득할 만한 이유를 설명하시오.\n"
   ]
  },
  {
   "cell_type": "code",
   "execution_count": 4,
   "metadata": {
    "collapsed": false
   },
   "outputs": [
    {
     "name": "stdout",
     "output_type": "stream",
     "text": [
      "[1, 100, 4, 5]\n"
     ]
    }
   ],
   "source": [
    "L = [1, 2, 3, 4, 5]\n",
    "\n",
    "L[1:3] = [100]\n",
    "print L"
   ]
  },
  {
   "cell_type": "markdown",
   "metadata": {},
   "source": [
    "####리스트 L의  L[1]과 L[2]의 요소를 슬라이스 하여  100을 넣어주었다."
   ]
  },
  {
   "cell_type": "code",
   "execution_count": 7,
   "metadata": {
    "collapsed": false
   },
   "outputs": [
    {
     "name": "stdout",
     "output_type": "stream",
     "text": [
      "[1, 100, 4, 5]\n"
     ]
    }
   ],
   "source": [
    "L = [1, 2, 3, 4, 5]\n",
    "\n",
    "L[1:3] = [(100)]\n",
    "print L"
   ]
  },
  {
   "cell_type": "markdown",
   "metadata": {},
   "source": [
    "####답이 위의 문제와 같은데, 그 이유는 튜플을 만들 때 ( , ) 를 사용하는데 원소 하나만 넣으면 튜플이 완성되지 않는다. 원소 하나와 튜플을 완성하고 싶을 때에는 ,을 사용하여야 한다."
   ]
  },
  {
   "cell_type": "code",
   "execution_count": 13,
   "metadata": {
    "collapsed": false
   },
   "outputs": [
    {
     "ename": "TypeError",
     "evalue": "can only assign an iterable",
     "output_type": "error",
     "traceback": [
      "\u001b[1;31m---------------------------------------------------------------------------\u001b[0m",
      "\u001b[1;31mTypeError\u001b[0m                                 Traceback (most recent call last)",
      "\u001b[1;32m<ipython-input-13-ea7f8000513a>\u001b[0m in \u001b[0;36m<module>\u001b[1;34m()\u001b[0m\n\u001b[0;32m      1\u001b[0m \u001b[0mL\u001b[0m \u001b[1;33m=\u001b[0m \u001b[1;33m[\u001b[0m\u001b[1;36m1\u001b[0m\u001b[1;33m,\u001b[0m \u001b[1;36m2\u001b[0m\u001b[1;33m,\u001b[0m \u001b[1;36m3\u001b[0m\u001b[1;33m,\u001b[0m \u001b[1;36m4\u001b[0m\u001b[1;33m,\u001b[0m \u001b[1;36m5\u001b[0m\u001b[1;33m]\u001b[0m\u001b[1;33m\u001b[0m\u001b[0m\n\u001b[0;32m      2\u001b[0m \u001b[1;33m\u001b[0m\u001b[0m\n\u001b[1;32m----> 3\u001b[1;33m \u001b[0mL\u001b[0m\u001b[1;33m[\u001b[0m\u001b[1;36m1\u001b[0m\u001b[1;33m:\u001b[0m\u001b[1;36m3\u001b[0m\u001b[1;33m]\u001b[0m \u001b[1;33m=\u001b[0m \u001b[1;36m100\u001b[0m\u001b[1;33m\u001b[0m\u001b[0m\n\u001b[0m\u001b[0;32m      4\u001b[0m \u001b[1;32mprint\u001b[0m \u001b[0mL\u001b[0m\u001b[1;33m\u001b[0m\u001b[0m\n",
      "\u001b[1;31mTypeError\u001b[0m: can only assign an iterable"
     ]
    }
   ],
   "source": [
    "L = [1, 2, 3, 4, 5]\n",
    "\n",
    "L[1:3] = 100\n",
    "print L"
   ]
  },
  {
   "cell_type": "markdown",
   "metadata": {},
   "source": [
    "#### 리스트를 슬라이스를 하면 리스트가 출력이 된다. 리스트에는 리스트인 객체를 참조시켜야 하지만, 100인 숫자를 참조시켰기 때문에 오류가 난다."
   ]
  },
  {
   "cell_type": "code",
   "execution_count": 14,
   "metadata": {
    "collapsed": false
   },
   "outputs": [
    {
     "ename": "TypeError",
     "evalue": "can only assign an iterable",
     "output_type": "error",
     "traceback": [
      "\u001b[1;31m---------------------------------------------------------------------------\u001b[0m",
      "\u001b[1;31mTypeError\u001b[0m                                 Traceback (most recent call last)",
      "\u001b[1;32m<ipython-input-14-60c1c319a21e>\u001b[0m in \u001b[0;36m<module>\u001b[1;34m()\u001b[0m\n\u001b[0;32m      1\u001b[0m \u001b[0mL\u001b[0m \u001b[1;33m=\u001b[0m \u001b[1;33m[\u001b[0m\u001b[1;36m1\u001b[0m\u001b[1;33m,\u001b[0m \u001b[1;36m2\u001b[0m\u001b[1;33m,\u001b[0m \u001b[1;36m3\u001b[0m\u001b[1;33m,\u001b[0m \u001b[1;36m4\u001b[0m\u001b[1;33m,\u001b[0m \u001b[1;36m5\u001b[0m\u001b[1;33m]\u001b[0m\u001b[1;33m\u001b[0m\u001b[0m\n\u001b[0;32m      2\u001b[0m \u001b[1;33m\u001b[0m\u001b[0m\n\u001b[1;32m----> 3\u001b[1;33m \u001b[0mL\u001b[0m\u001b[1;33m[\u001b[0m\u001b[1;36m1\u001b[0m\u001b[1;33m:\u001b[0m\u001b[1;36m3\u001b[0m\u001b[1;33m]\u001b[0m \u001b[1;33m=\u001b[0m \u001b[1;33m(\u001b[0m\u001b[1;36m100\u001b[0m\u001b[1;33m)\u001b[0m\u001b[1;33m\u001b[0m\u001b[0m\n\u001b[0m\u001b[0;32m      4\u001b[0m \u001b[1;32mprint\u001b[0m \u001b[0mL\u001b[0m\u001b[1;33m\u001b[0m\u001b[0m\n",
      "\u001b[1;31mTypeError\u001b[0m: can only assign an iterable"
     ]
    }
   ],
   "source": [
    "L = [1, 2, 3, 4, 5]\n",
    "\n",
    "L[1:3] = (100)\n",
    "print L"
   ]
  },
  {
   "cell_type": "markdown",
   "metadata": {},
   "source": [
    "####(100)은 원소가 하나이기 때문에 튜플이 아니라 int형 자료형이다. 때문에 오류가 뜨고 튜플로 인지시키기 위해서는 ,을 찍어주어야 한다."
   ]
  },
  {
   "cell_type": "code",
   "execution_count": 15,
   "metadata": {
    "collapsed": false
   },
   "outputs": [
    {
     "name": "stdout",
     "output_type": "stream",
     "text": [
      "[1, 100, 101, 102, 4, 5]\n"
     ]
    }
   ],
   "source": [
    "L = [1, 2, 3, 4, 5]\n",
    "\n",
    "L[1:3] = (100, 101, 102)\n",
    "print L"
   ]
  },
  {
   "cell_type": "markdown",
   "metadata": {},
   "source": [
    "####L[1]과 L[2]에 튜플을 통하여 100, 101, 102를 넣어주었다. 따라서 리스트의 길이도 늘어났다."
   ]
  },
  {
   "cell_type": "code",
   "execution_count": 16,
   "metadata": {
    "collapsed": false
   },
   "outputs": [
    {
     "name": "stdout",
     "output_type": "stream",
     "text": [
      "[1, 100, 101, 102, 4, 5]\n"
     ]
    }
   ],
   "source": [
    "L = [1, 2, 3, 4, 5]\n",
    "\n",
    "L[1:3] = [100, 101, 102]\n",
    "print L"
   ]
  },
  {
   "cell_type": "markdown",
   "metadata": {},
   "source": [
    "#### 위의 문제와 다르게 이번에는 리스트를 대신 넣어주었다."
   ]
  },
  {
   "cell_type": "code",
   "execution_count": 17,
   "metadata": {
    "collapsed": false
   },
   "outputs": [
    {
     "name": "stdout",
     "output_type": "stream",
     "text": [
      "[1, (100, 101, 102), 4, 5]\n"
     ]
    }
   ],
   "source": [
    "L = [1, 2, 3, 4, 5]\n",
    "\n",
    "L[1:3] = [(100, 101, 102)]\n",
    "print L"
   ]
  },
  {
   "cell_type": "markdown",
   "metadata": {},
   "source": [
    "####L[1]과 L[2]를 포함하여 길이 1의 리스트를 넣어 주었는데,  넣어준 길이 1의 리스트는 길이가 3인 튜플이다. 따라서 튜플 그대로 L[1]에 삽입되었다."
   ]
  },
  {
   "cell_type": "code",
   "execution_count": 18,
   "metadata": {
    "collapsed": false
   },
   "outputs": [
    {
     "name": "stdout",
     "output_type": "stream",
     "text": [
      "[1, [100, 101, 102], 4, 5]\n"
     ]
    }
   ],
   "source": [
    "L = [1, 2, 3, 4, 5]\n",
    "\n",
    "L[1:3] = [[100, 101, 102]]\n",
    "print L"
   ]
  },
  {
   "cell_type": "markdown",
   "metadata": {},
   "source": [
    "####이번에는 길이가 3인 리스트를 L[1]에 넣어주었다. 따라서 길이가 3인 리스트가 L[1]이 되었다.\n",
    "##문제 2\n",
    "####•문자열 S = 'Hello World and Python'에 대해 다음 요구사항에 대한 Python 코드를 제시하시오. \n",
    "####◾1) 단어의 순서가 역순으로 되어진 문자열 ('Python and World Hello')을 만들고 \n",
    "####◾2) 1)의 결과 문자열에 대해 메소드 split과 join을 이용하여 공백을 모두 없엔 문자열 'PythonandWorldHello'을 만드시오.\n"
   ]
  },
  {
   "cell_type": "code",
   "execution_count": 9,
   "metadata": {
    "collapsed": false
   },
   "outputs": [
    {
     "name": "stdout",
     "output_type": "stream",
     "text": [
      "단어의 순서가 역순 =>    Python and World Hello\n",
      "공백을 모두 없엔 문자열 =>    PythonandWorldHello\n"
     ]
    }
   ],
   "source": [
    "s = 'Hello World and Python'\n",
    "L = s.split()\n",
    "x = len(L) -1\n",
    "L2 = range(len(L))\n",
    "\n",
    "while x>=0:\n",
    "    L2[3-x] = L[x]\n",
    "    x = x-1\n",
    "s = \" \".join(L2)\n",
    "print u\"단어의 순서가 역순 =>    \" + s\n",
    "\n",
    "L = s.split()\n",
    "s = \"\".join(L)\n",
    "print u\"공백을 모두 없엔 문자열 =>    \"  +s\n"
   ]
  },
  {
   "cell_type": "markdown",
   "metadata": {},
   "source": [
    "####문자열 s를 split()을 이용하여 리스트 L에 저장한다.  그리고 리스트 L의 길이 만큼의 리스트를 하나 더 만들어 준 후, while을 이용하여 새로 만든 리스트에 L의 원소들을 거꾸로 하나씩 넣어준다. s에 다시 join을 이용하여 s에 리스트를 공백을 뛰어 저장한다. 역순의 문자열이 만들어 진다. \n",
    "####다시 s를 split()한 후, join으로 공백을 없이 붙인다. 공백을 없엔 문자열이 만들어 진다.\n",
    "##문제 3\n",
    "####•다음 코드를 보고 물음에 답하시오.\n",
    "####a = [1, 2, 3]\n",
    "####b = a * 3\n",
    "####c = [a] * 3\n",
    "####print b\n",
    "####print c\n",
    "####◾1) 위 코드를 수행한 이후 다음 코드를 수행한 후 b와 c의 내용을 확인하시오.a[0]=0\n",
    "####◾2) b와 c 객체의 차이는 무엇인가?"
   ]
  },
  {
   "cell_type": "code",
   "execution_count": 1,
   "metadata": {
    "collapsed": false
   },
   "outputs": [
    {
     "name": "stdout",
     "output_type": "stream",
     "text": [
      "[1, 2, 3, 1, 2, 3, 1, 2, 3]\n",
      "[[1, 2, 3], [1, 2, 3], [1, 2, 3]]\n",
      "[1, 2, 3, 1, 2, 3, 1, 2, 3]\n",
      "[[0, 2, 3], [0, 2, 3], [0, 2, 3]]\n"
     ]
    }
   ],
   "source": [
    "a = [1, 2, 3]\n",
    "b = a * 3\n",
    "c = [a] * 3\n",
    "print b\n",
    "print c\n",
    "\n",
    "\n",
    "a = [1, 2, 3]\n",
    "b = a * 3\n",
    "c = [a] * 3\n",
    "a[0] = 0\n",
    "print b\n",
    "print c"
   ]
  },
  {
   "cell_type": "markdown",
   "metadata": {},
   "source": [
    "#### b는 a의 원소들을 3번 반복해 주었고, c는 a 를 다시 리스트로 만들어 그 전체를 원소로 만들어 3번 반복해 주었다."
   ]
  },
  {
   "cell_type": "markdown",
   "metadata": {},
   "source": [
    "##문제 4\n",
    "####다음 문자열을 ':'을 기준으로 분리하여 리스트로 만들고 각 문자열의 좌우 공백을 제거하시오(즉, 문자열 S에서 I을 만들어라)\n",
    "####s = '  first star   :   second star   :    third star  '\n",
    "####l = ['first star', 'second star', 'third star']\n",
    "####◾1) for ~ in 문을 이용한 코드를 작성하시오. \n",
    "#####◾2) 리스트 내포(list comprehension)를 이용한 코드를 작성하시오.\n"
   ]
  },
  {
   "cell_type": "code",
   "execution_count": 17,
   "metadata": {
    "collapsed": false
   },
   "outputs": [
    {
     "name": "stdout",
     "output_type": "stream",
     "text": [
      "['first star', 'second star', 'third star']\n"
     ]
    }
   ],
   "source": [
    "s = '  first star   :   second star   :    third star  '\n",
    "length = s.count(':') + 1\n",
    "l = range(length)\n",
    "l = ['' for x in range(0, length)]\n",
    "\n",
    "n = 0\n",
    "for x in range(0, len(s)):\n",
    "    if s[x] == ':':\n",
    "        n = n +1\n",
    "        continue\n",
    "    l[n] = l[n] + s[x]\n",
    "for x in range(0, len(l)):\n",
    "    l[x] = l[x].strip()\n",
    "print l\n",
    "    \n"
   ]
  },
  {
   "cell_type": "markdown",
   "metadata": {},
   "source": [
    "####먼저 문자열 s를 정의해 주었다.  그리고 length 변수에 :의 갯수를 센 후 1을 더해주어 단어의 개수를 만들어 주었다. 리스트 l에는 단어의 개수인 length만큼 크기를 정해주었다. l에는 리스트 내포를 이용하여 리스트의 원소들을 모두 문자열로 만들어 주었다. for in 을 사용하여 l의 각 원소에 :를 기준으로 s의 원소들을 넣어주었다. for in 을 이용하여 l의 원소들을 strip()으로 좌우 공백을 제거해 주었다. \n",
    "##문제5\n",
    "####•다음과 같이 0보다 큰 정수 리스트 변수 list를 인자로 받는 함수 addall(list)와 addallodd(list)를 for ~ in 리터널과 리스트 내포 방식으로 각각 제시하시오.\n",
    "####◾1) addall(list) 함수 (리스트 내의 모든 정수를 더하는 함수로서 해답으로는 for ~ in 리터럴과 리스트 내포 방식으로 각각 제시하시오.)\n",
    "####◦>>> addall([1])\n",
    "####1\n",
    "####◦>>> addall([1, 2, 3, 4, 5, 6, 7, 8, 9])\n",
    "####45\n",
    "####◾2) addallodd(list) 함수 (리스트내의 모든 홀수를 더하는 함수로서 해답으로는 for ~ in 리터럴과 리스트 내포 방식으로 각각 제시하시오.)\n",
    "####◦>>> addallodd([1])\n",
    "####1\n",
    "####◦>>> addallodd([1, 2, 3, 4, 5, 6, 7, 8, 9])\n",
    "####25\n",
    "####◾[참고]: 리스트 내포 방식으로 addall() 및 addallodd()함수를 만들 때엔 리스트 내포에 의해 생성된 리스트 결과에 대해 내장 함수를 사용하는 방식을 고려해보시오 (주의: 리스트 내포 방식의 addall() 및 addallodd() 함수의 몸체는 단 1줄로 작성되어야 한다.) \n"
   ]
  },
  {
   "cell_type": "code",
   "execution_count": 30,
   "metadata": {
    "collapsed": false
   },
   "outputs": [
    {
     "name": "stdout",
     "output_type": "stream",
     "text": [
      "addall([1]) =  1\n",
      "addall([1, 2, 3, 4, 5, 6, 7, 8, 9]) =  45\n",
      "addallodd([1]) =  1\n",
      "addallodd([1, 2, 3, 4, 5, 6, 7, 8, 9]) =  25\n"
     ]
    }
   ],
   "source": [
    "def addall(list):\n",
    "    sum = 0\n",
    "    for x in range(0, len(list)):\n",
    "        sum = sum + list[x]\n",
    "    return sum\n",
    "\n",
    "\n",
    "def addallodd(list):\n",
    "    sum = 0\n",
    "    for x in range(0, len(list)):\n",
    "        if(list[x] % 2 == 1):\n",
    "            sum = sum + list[x]\n",
    "    return sum\n",
    "\n",
    "L1 = [1]\n",
    "L2 = [1, 2, 3, 4, 5, 6, 7, 8, 9]\n",
    "\n",
    "print u'addall([1]) = ' , addall(L1)\n",
    "print u'addall([1, 2, 3, 4, 5, 6, 7, 8, 9]) = ', addall(L2)\n",
    "\n",
    "print u'addallodd([1]) = ' , addallodd(L1)\n",
    "print u'addallodd([1, 2, 3, 4, 5, 6, 7, 8, 9]) = ', addallodd(L2)"
   ]
  },
  {
   "cell_type": "markdown",
   "metadata": {},
   "source": [
    "#### addall()은 for in을 통하여 list의 첫 원소부터 마지막 원소까지 sum이라는 변수에 더하여 넣어주었다. addallodd()는 if문을 추가하여 나누었을 때 나머지가 1일 경우에만 더하도록 하였다."
   ]
  },
  {
   "cell_type": "code",
   "execution_count": 36,
   "metadata": {
    "collapsed": false
   },
   "outputs": [
    {
     "name": "stdout",
     "output_type": "stream",
     "text": [
      "addall([1]) =  1\n",
      "addall([1, 2, 3, 4, 5, 6, 7, 8, 9]) =  45\n",
      "addallodd([1]) =  1\n",
      "addallodd([1, 2, 3, 4, 5, 6, 7, 8, 9]) =  25\n"
     ]
    }
   ],
   "source": [
    "def addall(list):\n",
    "    return sum([x for x in list])\n",
    "\n",
    "\n",
    "def addallodd(list):\n",
    "    return sum([x for x in list if x % 2 == 1])\n",
    "\n",
    "L1 = [1]\n",
    "L2 = [1, 2, 3, 4, 5, 6, 7, 8, 9]\n",
    "\n",
    "print u'addall([1]) = ' , addall(L1)\n",
    "print u'addall([1, 2, 3, 4, 5, 6, 7, 8, 9]) = ', addall(L2)\n",
    "\n",
    "print u'addallodd([1]) = ' , addallodd(L1)\n",
    "print u'addallodd([1, 2, 3, 4, 5, 6, 7, 8, 9]) = ', addallodd(L2)"
   ]
  },
  {
   "cell_type": "markdown",
   "metadata": {},
   "source": [
    "#### 한줄로 표현하기 위해 return에 바로 식을 넣어 주었다.  리스트의 합을 더해주는 내장함수 sum을 사용하여 리스트 내포로 만들어 준 리스트의 원소들을 모두 더해주었다. addallodd()는 if문을 추가하여 홀수만 더해주었다."
   ]
  },
  {
   "cell_type": "markdown",
   "metadata": {},
   "source": [
    "##문제 6\n",
    "####•다음 코드를 보고 물음에 답하시오.\n"
   ]
  },
  {
   "cell_type": "code",
   "execution_count": 18,
   "metadata": {
    "collapsed": false
   },
   "outputs": [
    {
     "name": "stdout",
     "output_type": "stream",
     "text": [
      "{'high': [4, 5, 6], 'low': [1, 2, 3]}\n",
      "{'high': [4, 5, 6], 'low': [1, 2, 3]}\n",
      "{'high': [4, 5, 6], 'low': [1, 2, 3]}\n",
      "\n",
      "{'high': [4, 500, 6], 'low': [10, 20, 30]}\n",
      "{'high': [4, 500, 6], 'low': [10, 20, 30]}\n",
      "{'high': [4, 500, 6], 'low': [1, 2, 3]}\n"
     ]
    }
   ],
   "source": [
    "L1 = [1, 2, 3]\n",
    "L2 = [4, 5, 6]\n",
    "d = {'low':L1, 'high':L2}\n",
    "e = d\n",
    "f = d.copy()\n",
    "print d\n",
    "print e\n",
    "print f\n",
    "print\n",
    "d['low'] = [10, 20, 30]\n",
    "d['high'][1] = 500\n",
    "print d\n",
    "print e\n",
    "print f"
   ]
  },
  {
   "cell_type": "markdown",
   "metadata": {},
   "source": [
    "####◾1) 위 코드의 수행 결과 d와 e는 항상 같은 결과를 출력한다. 그 이유는 무엇인가?\n",
    "####d와 e는 같은 객체를 참조한다. 따라서 d와 e중 하나만 값이 바뀌어도 나머지 하나의 값이 바뀐다.\n",
    "####◾2) 위 코드의 수행 결과 마지막 f의 내용은 다음과 같다. 이 때 'high' 키의 값 내용 중 500이 출력된 이유와 'low' 키의 값 내용 중 [1, 2, 3]이 출력된 이유를 설명하시오 ([hint]: shallow copy 관점에서 설명하시오.){'high': [4, 500, 6], 'low': [1, 2, 3]}\n",
    "####f는 얕은 복사를 시행하였다. 그에 따라서 d의 값이 바뀐다고 해서 f의 값이 바뀌지 않는다."
   ]
  },
  {
   "cell_type": "markdown",
   "metadata": {},
   "source": [
    "##문제 7\n",
    "####•사전 d = {'one':1, 'two':2, 'three':3, 'four':4, 'five':5}가 주어졌을 때 다음 요구사항에 맞는 코드를 제시하시오 ◾[참고]: d.keys(), d.values()를 통해 리스트를 얻어낸 후 리스트가 지니고 있는 sort(cmp=None, key=None, reverse=False)함수를 활용하시오.\n",
    "◾1) 키의 알파벳 오름차순 순서대로 튜플 (키, 값)을 차례대로 출력하시오.\n",
    "◾2) 키의 알파벳 내림차순 순서대로 튜플 (키, 값)을 차례대로 출력하시오.\n",
    "◾3) 값의 오름차순 순서대로 튜플 (키, 값)을 차례대로 출력하시오. \n",
    "◾4) 값의 내림차순 순서대로 튜플 (키, 값)을 차례대로 출력하시오.\n"
   ]
  },
  {
   "cell_type": "code",
   "execution_count": 20,
   "metadata": {
    "collapsed": false
   },
   "outputs": [
    {
     "name": "stdout",
     "output_type": "stream",
     "text": [
      "키의 오름차순 =>\n",
      "('five', 5)\n",
      "('four', 4)\n",
      "('one', 1)\n",
      "('three', 3)\n",
      "('two', 2)\n",
      "키의 내림차순 =>\n",
      "('two', 2)\n",
      "('three', 3)\n",
      "('one', 1)\n",
      "('four', 4)\n",
      "('five', 5)\n",
      "값의 오름차순 =>\n",
      "('one', 1)\n",
      "('two', 2)\n",
      "('three', 3)\n",
      "('four', 4)\n",
      "('five', 5)\n",
      "값의 내림차순 =>\n",
      "('five', 5)\n",
      "('four', 4)\n",
      "('three', 3)\n",
      "('two', 2)\n",
      "('one', 1)\n"
     ]
    }
   ],
   "source": [
    "d = {'one':1, 'two':2, 'three':3, 'four':4, 'five':5}\n",
    "L = d.keys()\n",
    "L.sort()\n",
    "print u\"키의 오름차순 =>\"\n",
    "for x in L:\n",
    "    print (x, d[x])\n",
    "L = d.keys()\n",
    "L.sort(reverse = True)\n",
    "print u\"키의 내림차순 =>\"\n",
    "for x in L:\n",
    "    print (x, d[x])\n",
    "L = d.values()\n",
    "L.sort()\n",
    "print u\"값의 오름차순 =>\"\n",
    "for x in L:    #values의 리스트의 값들\n",
    "    for y in d:    #\n",
    "        if d[y] == x:\n",
    "            print (y, x)\n",
    "            break\n",
    "L = d.values()\n",
    "L.sort(reverse = True)\n",
    "print u\"값의 내림차순 =>\"\n",
    "for x in L:    #values의 리스트의 값들\n",
    "    for y in d:    #\n",
    "        if d[y] == x:\n",
    "            print (y, x)\n",
    "            break"
   ]
  },
  {
   "cell_type": "markdown",
   "metadata": {},
   "source": [
    "##오일러 7\n",
    "####소수를 크기 순으로 나열하면 2, 3, 5, 7, 11, 13, ... 과 같이 됩니다.\n",
    "####이 때 10,001번째의 소수를 구하세요.\n"
   ]
  },
  {
   "cell_type": "code",
   "execution_count": 2,
   "metadata": {
    "collapsed": false
   },
   "outputs": [
    {
     "name": "stdout",
     "output_type": "stream",
     "text": [
      "104743\n"
     ]
    }
   ],
   "source": [
    "num = 0\n",
    "x= 3\n",
    "count = 1\n",
    "while count<10001:\n",
    "    for i in range(2, x):\n",
    "        if x%i == 0:\n",
    "            break\n",
    "        if i == x-1:\n",
    "            count = count +1\n",
    "            num = x\n",
    "    x = x + 1\n",
    "print num\n",
    "        "
   ]
  },
  {
   "cell_type": "markdown",
   "metadata": {},
   "source": [
    "####소수를 저장할 num을 선언, 소수인지를 비교할 수 x 선언을 한다. 소수가 10001번째 발견할 때까지 반복문을 반복하며,  소수인 것을 발견했을시, num에 저장한다.\n",
    "##오일러 8\n",
    "####다음은 연속된 1000자리 숫자입니다 (읽기 좋게 50자리씩 잘라놓음).\n",
    "####7316717653133062491922511967442657474235534919493496983520312774506326239578318016984801869478851843858615607891129494954595017379583319528532088055111254069874715852386305071569329096329522744304355766896648950445244523161731856403098711121722383113622298934233803081353362766142828064444866452387493035890729629049156044077239071381051585930796086670172427121883998797908792274921901699720888093776657273330010533678812202354218097512545405947522435258490771167055601360483958644670632441572215539753697817977846174064955149290862569321978468622482839722413756570560574902614079729686524145351004748216637048440319989000889524345065854122758866688116427171479924442928230863465674813919123162824586178664583591245665294765456828489128831426076900422421902267105562632111110937054421750694165896040807198403850962455444362981230987879927244284909188845801561660979191338754992005240636899125607176060588611646710940507754100225698315520005593572972571636269561882670428252483600823257530420752963450 \n"
   ]
  },
  {
   "cell_type": "code",
   "execution_count": 14,
   "metadata": {
    "collapsed": false,
    "scrolled": true
   },
   "outputs": [
    {
     "name": "stdout",
     "output_type": "stream",
     "text": [
      "40824\n"
     ]
    }
   ],
   "source": [
    "s = '7316717653133062491922511967442657474235534919493496983520312774506326239578318016984801869478851843858615607891129494954595017379583319528532088055111254069874715852386305071569329096329522744304355766896648950445244523161731856403098711121722383113622298934233803081353362766142828064444866452387493035890729629049156044077239071381051585930796086670172427121883998797908792274921901699720888093776657273330010533678812202354218097512545405947522435258490771167055601360483958644670632441572215539753697817977846174064955149290862569321978468622482839722413756570560574902614079729686524145351004748216637048440319989000889524345065854122758866688116427171479924442928230863465674813919123162824586178664583591245665294765456828489128831426076900422421902267105562632111110937054421750694165896040807198403850962455444362981230987879927244284909188845801561660979191338754992005240636899125607176060588611646710940507754100225698315520005593572972571636269561882670428252483600823257530420752963450'\n",
    "max = 0\n",
    "mult = 1\n",
    "for x in range(0, len(s)-5):\n",
    "    mult = (int(s[x])*int(s[x+1])*int(s[x+2])*int(s[x+3])*int(s[x+4]))\n",
    "    if max < mult:\n",
    "        max = mult\n",
    "print max  "
   ]
  },
  {
   "cell_type": "markdown",
   "metadata": {},
   "source": [
    "####문자열 s에 1000자리 수를 넣어준다. 우선 최댓값을 0으로 설정해 준 후, s의 값을 처음부터 5개씩 추출하여 int형으로 변환하여 곱해준다. 후에 if를 이용하여 max값과 비교하여 max보다 곱이 더 크면 max에 대입해준다.\n",
    "##오일러 9\n",
    "####세 자연수 a, b, c 가 피타고라스 정리 a2 + b2 = c2 를 만족하면 피타고라스 수라고 부릅니다 (여기서 a < b < c ).\n",
    "####예를 들면 32 + 42 = 9 + 16 = 25 = 52이므로 3, 4, 5는 피타고라스 수입니다.\n",
    "####a + b + c = 1000  인 피타고라스 수 a, b, c는 한 가지 뿐입니다. 이 때, a × b × c 는 얼마입니까?\n",
    "\n"
   ]
  },
  {
   "cell_type": "code",
   "execution_count": 1,
   "metadata": {
    "collapsed": false
   },
   "outputs": [
    {
     "name": "stdout",
     "output_type": "stream",
     "text": [
      "31875000\n",
      "200 375 425\n"
     ]
    }
   ],
   "source": [
    "for a in range(3, 1000):\n",
    "    for b in range(3, 1000):\n",
    "        for c in range(1000-a-b, 1000):\n",
    "            if(a + b + c == 1000):\n",
    "                if(pow(a,2)+pow(b,2) == pow(c,2)):\n",
    "                    if(a < b and b < c):\n",
    "                        print a*b*c\n",
    "                        print a, b ,c\n",
    "                        break"
   ]
  },
  {
   "cell_type": "markdown",
   "metadata": {},
   "source": [
    "####a와 b는 반복문의 범위를 3부터 시작해 주었고, c 는 1000에서 a와 b를 뺀 값부터 시작하였다. if에 a+b+c==1000, a^2*b^2 = c^2, a<,b<,c 등을 넣어주었다."
   ]
  },
  {
   "cell_type": "code",
   "execution_count": 37,
   "metadata": {
    "collapsed": false,
    "scrolled": false
   },
   "outputs": [
    {
     "name": "stdout",
     "output_type": "stream",
     "text": [
      "1142 : 2\n",
      "홈페이지에 : 1\n",
      "특성화 : 5\n",
      "인턴사원 : 1\n",
      "소개합니다 : 1\n",
      "1147 : 2\n",
      "글로벌 : 3\n",
      "결의대회 : 1\n",
      "물건을 : 1\n",
      "Political : 1\n",
      "HBO : 1\n",
      "온라인 : 4\n",
      "쏜다 : 1\n",
      "계속 : 1\n",
      "1019월까지 : 1\n",
      "사용할 : 1\n",
      "메카한국기술교육대학교 : 1\n",
      "유지 : 2\n",
      "교육역량강화사업 : 4\n",
      "있으니 : 1\n",
      "공지사항 : 1\n",
      "앙클 : 1\n",
      "소개 : 1\n",
      "1301 : 2\n",
      "Plus : 1\n",
      "큰 : 1\n",
      "찾기 : 1\n",
      "게임방 : 1\n",
      "케이스로 : 1\n",
      "Linkedin : 1\n",
      "것을환영합니다 : 1\n",
      "충남 : 1\n",
      "학사안내 : 1\n",
      "취업게시판 : 1\n",
      "to : 2\n",
      "IDPW : 1\n",
      "2015 : 2\n",
      "바로가기 : 2\n",
      "단 : 1\n",
      "동남구 : 2\n",
      "학부광장 : 1\n",
      "곧 : 1\n",
      "Consulted : 1\n",
      "Mobile : 1\n",
      "1154 : 2\n",
      "옮기고 : 1\n",
      "Michael : 1\n",
      "1553 : 2\n",
      "㈜인젠트 : 1\n",
      "Copyright : 1\n",
      "연봉 : 1\n",
      "20151021 : 18\n",
      "페스티벌’ : 1\n",
      "Not : 1\n",
      "Quick : 1\n",
      "1239 : 2\n",
      "브라우저를 : 1\n",
      "우수선정팀 : 1\n",
      "컨텐츠를 : 1\n",
      "Wolf : 1\n",
      "접수 : 2\n",
      "자격증 : 1\n",
      "부탁드 : 1\n",
      "교사직 : 1\n",
      "충청남도 : 2\n",
      "2015년도 : 1\n",
      "Effort : 1\n",
      "전자신문 : 1\n",
      "rights : 1\n",
      "GSTAR : 1\n",
      "참여 : 1\n",
      "1418 : 2\n",
      "안내수정 : 1\n",
      "한국기술교육대학교 : 5\n",
      "t : 1\n",
      "Registration : 1\n",
      "1337 : 2\n",
      "Education : 1\n",
      "20150930 : 1\n",
      "디스플레이장비전 : 1\n",
      "수 : 2\n",
      "로그인할 : 1\n",
      "Educate : 1\n",
      "졸업작품 : 1\n",
      "등 : 1\n",
      "14601461 : 1\n",
      "“스마트폰 : 1\n",
      "1328 : 4\n",
      "2015년 : 1\n",
      "School : 1\n",
      "무비 : 1\n",
      "싶다면 : 1\n",
      "병천면 : 2\n",
      "사무직 : 1\n",
      "학교 : 1\n",
      "1600 : 1\n",
      "다져 : 1\n",
      "경쟁력이다 : 1\n",
      "Po : 1\n",
      "유지될 : 1\n",
      "Borthwick : 1\n",
      "엔에스이 : 1\n",
      "for : 1\n",
      "모집 : 2\n",
      "꼭 : 1\n",
      "비밀번호 : 1\n",
      "무료수강 : 1\n",
      "산업기능요원 : 1\n",
      "열려 : 1\n",
      "홈페이지 : 1\n",
      "1409 : 4\n",
      "1252 : 2\n",
      "회원가입 : 1\n",
      "대한상공회의소 : 1\n",
      "디캠프 : 1\n",
      "Travis : 1\n",
      "1401 : 2\n",
      "1400 : 2\n",
      "20150923 : 1\n",
      "SK텔레콤­선일금고제작 : 1\n",
      "신입사원 : 1\n",
      "펜타인 : 1\n",
      "Empowerment : 1\n",
      "투표 : 1\n",
      "CSE : 1\n",
      "VENTURESQUARE : 1\n",
      "Study : 1\n",
      "공학교육인증 : 1\n",
      "1331 : 2\n",
      "1330 : 2\n",
      "경시대회 : 1\n",
      "부피가 : 1\n",
      "1932 : 2\n",
      "Contact : 1\n",
      "의지 : 1\n",
      "TEL : 1\n",
      "All : 1\n",
      "다음 : 1\n",
      "초고속인터넷망 : 1\n",
      "041 : 2\n",
      "및 : 2\n",
      "Messa : 1\n",
      "Facebook’s : 1\n",
      "시행 : 1\n",
      "청렴 : 1\n",
      "주KMW : 1\n",
      "등대에 : 1\n",
      "오픽강좌 : 1\n",
      "전문연구요원 : 1\n",
      "of : 1\n",
      "Twitter : 1\n",
      "기술연구소 : 1\n",
      "채용공고 : 1\n",
      "출원 : 1\n",
      "1243 : 2\n",
      "Computer : 1\n",
      "WEBMAIL : 1\n",
      "20150914 : 1\n",
      "이공계 : 1\n",
      "고취 : 1\n",
      "필요가 : 1\n",
      "개최···반부패 : 1\n",
      "Campus : 1\n",
      "Contents : 1\n",
      "4천이상 : 1\n",
      "연동 : 1\n",
      "케이블TV : 1\n",
      "Schoolfun : 1\n",
      "위기관리 : 1\n",
      "IT융합분야에 : 1\n",
      "1300 : 2\n",
      "Creative : 1\n",
      "쉽게 : 1\n",
      "참가인원 : 1\n",
      "코바코 : 1\n",
      "Dolly : 1\n",
      "RECODE : 1\n",
      "Online : 1\n",
      "1549 : 2\n",
      "Diversify : 1\n",
      "인력양성사업 : 3\n",
      "Google : 1\n",
      "사내 : 1\n",
      "코스닥상장 : 1\n",
      "수준의 : 1\n",
      "제작 : 2\n",
      "오프 : 1\n",
      "유출될 : 1\n",
      "지식재산권 : 1\n",
      "【장학지원】보건복지심리재활분야 : 1\n",
      "스타트업과 : 1\n",
      "시 : 1\n",
      "공지입니다 : 1\n",
      "20150903 : 2\n",
      "‘기가 : 1\n",
      "창업꿈나무 : 1\n",
      "영화 : 1\n",
      "인력이 : 1\n",
      "KoreaI : 1\n",
      "학과사무실 : 1\n",
      "CK : 1\n",
      "프로그래밍 : 1\n",
      "대학원 : 2\n",
      "1329 : 2\n",
      "기능을 : 1\n",
      "Plepler : 1\n",
      "560 : 2\n",
      "Science : 1\n",
      "주 : 1\n",
      "자유게시판 : 1\n",
      "구성원소개 : 1\n",
      "대한 : 1\n",
      "로그아웃을 : 1\n",
      "개인정보가 : 1\n",
      "분야 : 1\n",
      "공고 : 2\n",
      "안내 : 2\n",
      "31253 : 1\n",
      "Fun : 1\n",
      "Navigation : 1\n",
      "스마트홈 : 1\n",
      "마일리지 : 1\n",
      "일정 : 1\n",
      "‘에듀테크 : 1\n",
      "1625 : 2\n",
      "홈커밍데이 : 1\n",
      "결제가능”…엑스엔지니어링 : 1\n",
      "1431 : 2\n",
      "우편방 : 1\n",
      "해주세요 : 1\n",
      "적극 : 1\n",
      "접속부터는 : 1\n",
      "Engineering : 1\n",
      "Kalanick : 1\n",
      "LIG인베니아 : 1\n",
      "LIG그룹사 : 1\n",
      "Close : 1\n",
      "CoFounder : 1\n",
      "금고 : 1\n",
      "평생교육원 : 1\n",
      "Location : 1\n",
      "and : 3\n",
      "VoD : 1\n",
      "가전리 : 1\n",
      "개발자를 : 1\n",
      "reserved : 1\n",
      "구축 : 1\n",
      "Richard : 1\n",
      "IT전문인력 : 1\n",
      "경쟁력 : 1\n",
      "1414 : 2\n",
      "컴퓨터공학부 : 6\n",
      "1200 : 2\n",
      "콘텐츠 : 1\n",
      "1204 : 2\n",
      "에듀테크·교육 : 1\n",
      "이용 : 1\n",
      "20151019 : 1\n",
      "에서 : 1\n",
      "20151014 : 1\n",
      "20151015 : 1\n",
      "추가 : 1\n",
      "오신 : 1\n",
      "1인 : 1\n",
      "20151016 : 2\n",
      "20151012 : 1\n",
      "20151013 : 1\n",
      "농구장서 : 1\n",
      "Facebook : 1\n",
      "IT사업단 : 1\n",
      "John : 1\n",
      "모집합니다 : 1\n",
      "1057 : 2\n",
      "1616 : 2\n",
      "Ready : 1\n",
      "Activate : 1\n",
      "UHD로 : 1\n",
      "FAX : 1\n",
      "메카 : 1\n",
      "닫더라도 : 1\n",
      "없습니다 : 1\n",
      "교육의 : 2\n",
      "공공장소에서 : 1\n",
      "경우 : 1\n",
      "1의 : 1\n",
      "컨텐츠 : 3\n",
      "아이디 : 1\n",
      "융합소프트웨어 : 3\n",
      "J : 1\n",
      "자료실 : 1\n",
      "토익 : 1\n",
      "© : 1\n",
      "신청서 : 1\n",
      "학부 : 2\n",
      "입학 : 1\n",
      "IT : 5\n",
      "장학금 : 1\n",
      "Capability : 1\n",
      "상영하는 : 1\n",
      "KT : 2\n",
      "있습니다 : 1\n",
      "양성 : 1\n",
      "전시회 : 1\n",
      "설명회 : 1\n",
      "Uber : 1\n",
      "로그인이 : 1\n",
      "– : 1\n",
      "옹도 : 1\n",
      "Says : 1\n",
      "1462 : 1\n",
      "결과 : 1\n",
      "천안시 : 2\n",
      "1605 : 2\n",
      "투자유치 : 1\n",
      "1600한국기술교육대학교 : 1\n",
      "CEO : 4\n",
      "국제적인 : 1\n",
      "모집공고 : 1\n",
      "Tech : 1\n",
      "the : 1\n",
      "로그인 : 4\n",
      "Take : 1\n",
      "Betaworks : 1\n",
      "충절로 : 2\n",
      "T : 1\n"
     ]
    }
   ],
   "source": [
    "import urllib2\n",
    "\n",
    "source = urllib2.urlopen(\"http://cse.kut.ac.kr/\").read()\n",
    "for i in range(0, source.count('<!--')):\n",
    "    if source.find(\"<!--\") != -1:\n",
    "        source = source.replace(source[source.find(\"<!--\"):source.find(\"-->\")+3:],\"\")\n",
    "\n",
    "length = len(source)\n",
    "s = \"\"\n",
    "n = 1\n",
    "for x in range(0, length):\n",
    "    if n==1:\n",
    "        if source[x] == '<':\n",
    "            n = 0\n",
    "            pass\n",
    "        else:\n",
    "            s = s + source[x]\n",
    "    elif n==0:\n",
    "        if source[x] == '>':\n",
    "            n = 1\n",
    "        else:\n",
    "            pass\n",
    "L = s.split()\n",
    "\n",
    "import string\n",
    "punc = string.punctuation\n",
    "\n",
    "for x in range(0, len(L)):\n",
    "    for y in punc:\n",
    "        if L[x].find(y) != -1:\n",
    "            L[x] = L[x].replace(y, \"\")\n",
    "            \n",
    "            \n",
    "            \n",
    "count = 0\n",
    "for x in range(0, len(L)):\n",
    "    if L[x] == \"\" or L[x] == \" \":\n",
    "        count = count + 1\n",
    "\n",
    "\n",
    "\n",
    "\n",
    "while(count >0):\n",
    "    for x in range(0, len(L)):\n",
    "        if L[x] == \"\":\n",
    "            del L[x]\n",
    "            count = count -1\n",
    "            break\n",
    "            \n",
    "            \n",
    "d = {}\n",
    "\n",
    "for x in range(0, len(L)):\n",
    "    for y in range (0, len(L)):\n",
    "        if L[x] == L[y]: \n",
    "            count = count + 1\n",
    "    d[L[x]] = count\n",
    "    count = 0\n",
    "                \n",
    "for x in d:\n",
    "    print x, \":\" , d[x]\n",
    "    \n"
   ]
  },
  {
   "cell_type": "markdown",
   "metadata": {
    "collapsed": true
   },
   "source": [
    "####string 모듈을 불러와 모듈안의 구두문자를 알아내기 위해 string.punctuation의 원소들을 리스트에 넣어주었다.  for in을 통하여 각 L의 리스트 원소들을 구두문자 리스트의 원소들과 비교하며, 존재할 시 replace()를 통하여 \"\"로 바꾸어 주었다.  count = 0으로 변수를 하나 선언한 후, for in을 통하여 L의 원소를 확인하며 \"\" 또는 \" \" 가 있을 시 count의 값을 1씩 증가시켰다.  count가 0이 될때까지 반복문을 통하여 \"\" 또는 \" \"인 원소들을 제거하였으며, count를 1씩 감소시켰다.  타입이 사전인 d를 선언하였으며, d에 중첩 for in 문을 통하여 원소의 갯수를 샌 후, value에 갯수를 넣어주었다."
   ]
  },
  {
   "cell_type": "code",
   "execution_count": null,
   "metadata": {
    "collapsed": true
   },
   "outputs": [],
   "source": []
  }
 ],
 "metadata": {
  "kernelspec": {
   "display_name": "Python 2",
   "language": "python",
   "name": "python2"
  },
  "language_info": {
   "codemirror_mode": {
    "name": "ipython",
    "version": 2
   },
   "file_extension": ".py",
   "mimetype": "text/x-python",
   "name": "python",
   "nbconvert_exporter": "python",
   "pygments_lexer": "ipython2",
   "version": "2.7.9"
  }
 },
 "nbformat": 4,
 "nbformat_minor": 0
}
