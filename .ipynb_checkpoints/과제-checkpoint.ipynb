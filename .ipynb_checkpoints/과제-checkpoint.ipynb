{
 "cells": [
  {
   "cell_type": "markdown",
   "metadata": {},
   "source": [
    "#문제1\n",
    "###a=\"Hello Python\" 문자열을 Slicing과 연결 연산자 (+)를 사용하여 \"Python Hello\"로 변경하시오.\n",
    "###[주의] a변수 자체에 \"Python Hello\"문자열이 저장되어야 함"
   ]
  },
  {
   "cell_type": "code",
   "execution_count": 7,
   "metadata": {
    "collapsed": false
   },
   "outputs": [
    {
     "name": "stdout",
     "output_type": "stream",
     "text": [
      "Python Hello\n"
     ]
    }
   ],
   "source": [
    "a=\"Hello Python\"\n",
    "a=a[6:]+\" \"+a[:5]\n",
    "print a"
   ]
  },
  {
   "cell_type": "markdown",
   "metadata": {},
   "source": [
    " ####Slicing을 통하여 문자열a를 Python만 자른 후, \" \"를 넣어 준 뒤 다시한번 Slicing을 사용하여 Hello를 잘라낸 뒤, 연결 연산자(+)를 통하여 더한 뒤 a 에 넣어주었다. 그리고 print를 통하여 출력해 주었다."
   ]
  },
  {
   "cell_type": "markdown",
   "metadata": {},
   "source": [
    "#문제2\n",
    "###b=\"Hello Python World\" 문자열을 Slicing과 연결 연산자 (+)를 사용하여 \"World Python Hello\"로 변경하시오.\n",
    "###[주의]b변수 자체에 \"Python Hello\"문자열이 저장되어야 함\n"
   ]
  },
  {
   "cell_type": "code",
   "execution_count": 9,
   "metadata": {
    "collapsed": false
   },
   "outputs": [
    {
     "name": "stdout",
     "output_type": "stream",
     "text": [
      "World Python Hello\n"
     ]
    }
   ],
   "source": [
    "b = \"Hello Python World\"\n",
    "b = b[13:] + \" \" + b[6:12] + \" \" + b[:5]\n",
    "print b"
   ]
  },
  {
   "cell_type": "markdown",
   "metadata": {},
   "source": [
    "####Slicing을 통하여 b문자열을 World, Python, Hello로 각각 분할을 해 준뒤, \" \"와 함께 연결 연산자(+)를 통하여 연결해 준 뒤, b에 넣어주었다. 그리고 print를 통하여 출력해 주었다."
   ]
  },
  {
   "cell_type": "markdown",
   "metadata": {},
   "source": [
    "#문제3\n",
    "###c=\"Hello\"를 \"olleH\"로 변경하시오\n",
    "###[주의] c변수 자체에 \"olleH\"문자열이 저장되어야 함"
   ]
  },
  {
   "cell_type": "code",
   "execution_count": 10,
   "metadata": {
    "collapsed": false
   },
   "outputs": [
    {
     "name": "stdout",
     "output_type": "stream",
     "text": [
      "olleH\n"
     ]
    }
   ],
   "source": [
    "c = \"Hello\"\n",
    "c = c[::-1]\n",
    "print c"
   ]
  },
  {
   "cell_type": "markdown",
   "metadata": {},
   "source": [
    "####Slicing에서 [::-1]을 사용하게 되면 문자열의 맨 뒤에서 부터 거꾸로 문자 하나씩 출력이 된다. 그 후 c에 넣어 준 뒤 print를 통하여 출력하였다."
   ]
  },
  {
   "cell_type": "markdown",
   "metadata": {},
   "source": [
    "#문제4\n",
    "###s=\"python\"에 대해 다음 문제를 풀어보시오.\n",
    "###1. s[0], s[0][0], s[0][0][0]은 각각 어떤 값이 나오는지 확인하고 그 이유를 나름대로 설명해 보시오."
   ]
  },
  {
   "cell_type": "code",
   "execution_count": 11,
   "metadata": {
    "collapsed": false
   },
   "outputs": [
    {
     "name": "stdout",
     "output_type": "stream",
     "text": [
      "p\n",
      "p\n",
      "p\n"
     ]
    }
   ],
   "source": [
    "s = \"python\"\n",
    "print s[0]\n",
    "print s[0][0]\n",
    "print s[0][0][0]"
   ]
  },
  {
   "cell_type": "markdown",
   "metadata": {},
   "source": [
    "####c언어 에서도 1차원 배열이든 2차원 배열이든 값은 항상 똑같이 나왔다. 왜냐하면 배열이 아무리 n차원 배열이라도 뒤가 모두 0이면 배열의 첫번째 주소를 가리킨다."
   ]
  },
  {
   "cell_type": "markdown",
   "metadata": {},
   "source": [
    "###2. s[-100], s[100]은 값이 나오는지 에러가 나오는지 확인하고 그 결과에 대한 이유를 나름대로 설명해 보시오."
   ]
  },
  {
   "cell_type": "code",
   "execution_count": 17,
   "metadata": {
    "collapsed": false
   },
   "outputs": [
    {
     "ename": "IndexError",
     "evalue": "string index out of range",
     "output_type": "error",
     "traceback": [
      "\u001b[1;31m---------------------------------------------------------------------------\u001b[0m",
      "\u001b[1;31mIndexError\u001b[0m                                Traceback (most recent call last)",
      "\u001b[1;32m<ipython-input-17-fb3b99675773>\u001b[0m in \u001b[0;36m<module>\u001b[1;34m()\u001b[0m\n\u001b[0;32m      1\u001b[0m \u001b[0ms\u001b[0m \u001b[1;33m=\u001b[0m \u001b[1;34m\"python\"\u001b[0m\u001b[1;33m\u001b[0m\u001b[0m\n\u001b[1;32m----> 2\u001b[1;33m \u001b[1;32mprint\u001b[0m \u001b[0ms\u001b[0m\u001b[1;33m[\u001b[0m\u001b[1;33m-\u001b[0m\u001b[1;36m100\u001b[0m\u001b[1;33m]\u001b[0m\u001b[1;33m\u001b[0m\u001b[0m\n\u001b[0m\u001b[0;32m      3\u001b[0m \u001b[1;32mprint\u001b[0m \u001b[0ms\u001b[0m\u001b[1;33m[\u001b[0m\u001b[1;36m100\u001b[0m\u001b[1;33m]\u001b[0m\u001b[1;33m\u001b[0m\u001b[0m\n",
      "\u001b[1;31mIndexError\u001b[0m: string index out of range"
     ]
    }
   ],
   "source": [
    "s = \"python\"\n",
    "print s[-100]\n",
    "print s[100]"
   ]
  },
  {
   "cell_type": "markdown",
   "metadata": {},
   "source": [
    "####보류"
   ]
  },
  {
   "cell_type": "markdown",
   "metadata": {},
   "source": [
    "###3. s[-100, 100]은 값이 나오는지 에러가 나오는지 확인하고 그 결과에 대한 이유를 나름대로 설명해 보시오"
   ]
  },
  {
   "cell_type": "code",
   "execution_count": 19,
   "metadata": {
    "collapsed": false
   },
   "outputs": [
    {
     "ename": "TypeError",
     "evalue": "string indices must be integers, not tuple",
     "output_type": "error",
     "traceback": [
      "\u001b[1;31m---------------------------------------------------------------------------\u001b[0m",
      "\u001b[1;31mTypeError\u001b[0m                                 Traceback (most recent call last)",
      "\u001b[1;32m<ipython-input-19-20041a732f7c>\u001b[0m in \u001b[0;36m<module>\u001b[1;34m()\u001b[0m\n\u001b[0;32m      1\u001b[0m \u001b[0ms\u001b[0m \u001b[1;33m=\u001b[0m \u001b[1;34m\"python\"\u001b[0m\u001b[1;33m\u001b[0m\u001b[0m\n\u001b[1;32m----> 2\u001b[1;33m \u001b[1;32mprint\u001b[0m \u001b[0ms\u001b[0m\u001b[1;33m[\u001b[0m\u001b[1;33m-\u001b[0m\u001b[1;36m100\u001b[0m\u001b[1;33m,\u001b[0m \u001b[1;36m100\u001b[0m\u001b[1;33m]\u001b[0m\u001b[1;33m\u001b[0m\u001b[0m\n\u001b[0m",
      "\u001b[1;31mTypeError\u001b[0m: string indices must be integers, not tuple"
     ]
    }
   ],
   "source": [
    "s = \"python\"\n",
    "print s[-100, 100]"
   ]
  },
  {
   "cell_type": "markdown",
   "metadata": {},
   "source": [
    "####s에 저장되어 있는 문자열의 길이는 6이다. "
   ]
  },
  {
   "cell_type": "markdown",
   "metadata": {},
   "source": [
    "###4. s[1:-1]의 결과를 확인하고 그 결과에 대한 이유를 정확하게 설명하시오."
   ]
  },
  {
   "cell_type": "code",
   "execution_count": 20,
   "metadata": {
    "collapsed": false
   },
   "outputs": [
    {
     "name": "stdout",
     "output_type": "stream",
     "text": [
      "ytho\n"
     ]
    }
   ],
   "source": [
    "s = \"python\"\n",
    "print s[1:-1]"
   ]
  },
  {
   "cell_type": "markdown",
   "metadata": {},
   "source": [
    "####y는 s[1]이기 때문에 y부터 출력이 된다. p는 s[0]이므로 -1값은 n이므로 y부터 n을 제외한 o까지 출력이 된다. "
   ]
  },
  {
   "cell_type": "markdown",
   "metadata": {},
   "source": [
    "###5. s[3:-3]의 결과를 확인하고 그 결과에 대한 이유를 정확하게 설명하시오."
   ]
  },
  {
   "cell_type": "code",
   "execution_count": 6,
   "metadata": {
    "collapsed": false
   },
   "outputs": [
    {
     "name": "stdout",
     "output_type": "stream",
     "text": [
      "\n"
     ]
    }
   ],
   "source": [
    "s = \"python\"\n",
    "print s[3: -3]"
   ]
  },
  {
   "cell_type": "markdown",
   "metadata": {},
   "source": [
    "####값이 나오지 않는다. 문자열의 -3의 위치가 어디인지 정의되어 있지 않기 때문이다."
   ]
  },
  {
   "cell_type": "markdown",
   "metadata": {},
   "source": [
    "#문제5\n",
    "###for문을 활용하여 1부터 100사이의 홀수를 출력하시오."
   ]
  },
  {
   "cell_type": "code",
   "execution_count": 29,
   "metadata": {
    "collapsed": false
   },
   "outputs": [
    {
     "name": "stdout",
     "output_type": "stream",
     "text": [
      "1 3 5 7 9 11 13 15 17 19 21 23 25 27 29 31 33 35 37 39 41 43 45 47 49 51 53 55 57 59 61 63 65 67 69 71 73 75 77 79 81 83 85 87 89 91 93 95 97 99\n"
     ]
    }
   ],
   "source": [
    "for i in range(1, 100):\n",
    "    if (i%2)==1 :\n",
    "        print i,\n",
    "    "
   ]
  },
  {
   "cell_type": "markdown",
   "metadata": {},
   "source": [
    "####for문의 범위는 range를 통하여 1부터 100사이를 해주었으며, if문을 사용하여 홀수의 조건을 만들어 출력해주었다. 출력시 ,을 사용함으로써 줄이 바뀌지 않았다. "
   ]
  },
  {
   "cell_type": "markdown",
   "metadata": {},
   "source": [
    "#문제6\n",
    "###while문을 활용하여 1부터 100사이의 짝수의 합을 계산하여 출력하시오."
   ]
  },
  {
   "cell_type": "code",
   "execution_count": 1,
   "metadata": {
    "collapsed": false
   },
   "outputs": [
    {
     "name": "stdout",
     "output_type": "stream",
     "text": [
      "2450\n"
     ]
    }
   ],
   "source": [
    "n = 1\n",
    "sum = 0\n",
    "while n<100:\n",
    "    if (n%2)==0:\n",
    "        sum = sum + n\n",
    "    n = n +1\n",
    "print sum"
   ]
  },
  {
   "cell_type": "markdown",
   "metadata": {},
   "source": [
    "####점점 커질 수를 n으로 정하고, 짝수의 합을 sum으로 지정하였다. while을 통하여 n이 100보다 작을때에만 반복문이 발생하도록 하였으며, n이 짝수일 때에만 sum이 증가하도록 하였다. 또한 n은 반복문이 일어날 때마다 1씩 증가하도록 하였으며 마지막에 sum을 출력하였다. "
   ]
  },
  {
   "cell_type": "markdown",
   "metadata": {},
   "source": [
    "#문제7\n",
    "###사용자로 부터 임의의 정수를 입력받고, 해당 숫자를 역순으로 출력하는 프로그램을 작성하시오.\n",
    "###[실행 예] 정수를 입력하세요: 3125\n",
    "###숫자 역순은 5213 입니다."
   ]
  },
  {
   "cell_type": "code",
   "execution_count": 4,
   "metadata": {
    "collapsed": false
   },
   "outputs": [
    {
     "name": "stdout",
     "output_type": "stream",
     "text": [
      "input Integer : 123456\n",
      "숫자 역순은 654321입니다.\n"
     ]
    }
   ],
   "source": [
    "number = raw_input(\"input Integer : \")\n",
    "number = number[::-1]\n",
    "print \"숫자 역순은 \" + number + \"입니다.\"\n"
   ]
  },
  {
   "cell_type": "markdown",
   "metadata": {},
   "source": [
    "####ray_input 을 통하여 정수를 입력 받은 후, Slicing을 통하여 정수를 역순으로 출력한다."
   ]
  },
  {
   "cell_type": "markdown",
   "metadata": {},
   "source": [
    "#문제8\n",
    "###사용자로 부터 정수를 입력받아서 1부터 그 사이에 존재하는 소수 (Prime number)를 출력하는 파이썬 프로그램을 작성하시오"
   ]
  },
  {
   "cell_type": "code",
   "execution_count": 5,
   "metadata": {
    "collapsed": false
   },
   "outputs": [
    {
     "name": "stdout",
     "output_type": "stream",
     "text": [
      "input Integer10\n",
      "3 5 7\n"
     ]
    }
   ],
   "source": [
    "number = input(\"input Integer\")\n",
    "\n",
    "for x in range(number):\n",
    "    for y in range(2, x):\n",
    "        if(x%y) == 0:\n",
    "            break;\n",
    "        if(y==x-1):\n",
    "            print x, "
   ]
  },
  {
   "cell_type": "markdown",
   "metadata": {},
   "source": [
    "####변수 number에 숫자를 입력해 주었다.  for문을 통하여 구하는 범위를 정하였고, if문의 나눗셈을 통하여 나누어져 떨어질 때 소수가 아님을 표현해 주었다. 소수가 아닌 조건에 걸리지 않은 모든 수들을 출력해 주었다."
   ]
  },
  {
   "cell_type": "markdown",
   "metadata": {},
   "source": [
    "#문제9\n",
    "###1000보다 작은 자연수 중에서 3 또는 5의 배수를 모두 더하면?"
   ]
  },
  {
   "cell_type": "code",
   "execution_count": 2,
   "metadata": {
    "collapsed": false
   },
   "outputs": [
    {
     "name": "stdout",
     "output_type": "stream",
     "text": [
      "233168\n"
     ]
    }
   ],
   "source": [
    "i = 1\n",
    "sum = 0\n",
    "for i in range(1,1000):\n",
    "    if (i%3==0)or(i%5==0):\n",
    "        sum = sum+i\n",
    "print sum"
   ]
  },
  {
   "cell_type": "markdown",
   "metadata": {},
   "source": [
    "####range()를 통하여 1000까지 범위를 정해주었으며, 조건문을 통하여 3또는 5로 나누어 떨어질 때 더해지도록 하였다."
   ]
  },
  {
   "cell_type": "markdown",
   "metadata": {},
   "source": [
    "#문제10\n",
    "###피보나치 수열에서 4백만 이하이면서 짝수인 항의 합"
   ]
  },
  {
   "cell_type": "code",
   "execution_count": 5,
   "metadata": {
    "collapsed": false
   },
   "outputs": [
    {
     "name": "stdout",
     "output_type": "stream",
     "text": [
      "187\n"
     ]
    }
   ],
   "source": [
    "def fibo(n):\n",
    "    if n==0:\n",
    "        return 1\n",
    "    elif n==1:\n",
    "        return 1\n",
    "    return fibo(n-1)+fibo(n-2)\n",
    "sum = 0\n",
    "\n",
    "x = 0;\n",
    "while(fibo(x)<=4000000):\n",
    "    if(fibo(x)%2==0):\n",
    "        sum = sum + x\n",
    "    x = x + 1\n",
    "print sum"
   ]
  },
  {
   "cell_type": "markdown",
   "metadata": {},
   "source": [
    "####먼저 피보나치 수열을 재귀적 함수로 만들어 주었다. f(n) = f(n-1) + f(n-2)이므로 n이 0 또는 1일때를 제외하고 리턴값을 앞의 식으로 해주었다. 또한 while문을 통하여 항의 값이 4백만 이하의 항들 중에서 항들의 값이 짝수 인 것들 만 골라 합하여 더해주었다."
   ]
  },
  {
   "cell_type": "markdown",
   "metadata": {
    "collapsed": true
   },
   "source": [
    "#문제11\n",
    "###어떤 수를 소수의 곱으로만 나타내는 것을 소인수분해라 하고, 이 소수들을 그 수의 소인수라고 합니다.예를 들면 13195의 소인수는 5, 7, 13, 29 입니다.\n",
    "###600851475143의 소인수 중에서 가장 큰 수를 구하세요.\n"
   ]
  },
  {
   "cell_type": "code",
   "execution_count": 2,
   "metadata": {
    "collapsed": false
   },
   "outputs": [
    {
     "name": "stdout",
     "output_type": "stream",
     "text": [
      "6857\n"
     ]
    }
   ],
   "source": [
    "n = 600851475143\n",
    "x = 2\n",
    "max = 0\n",
    "while x < n:\n",
    "    if(n%x == 0):\n",
    "        n = n/x\n",
    "        max = n;\n",
    "        x = 2\n",
    "    else:\n",
    "        x = x + 1\n",
    "print max"
   ]
  },
  {
   "cell_type": "markdown",
   "metadata": {},
   "source": [
    "####맨 처음 for문에 range() 범위를 n 그대로 넣어 주었다.  그러나 범위가 너무 크다고오 오류가 떳었다. 그리고 소수인지 아닌지를 구별하는 Primt()함수를 만들었었다. 그러나 너무나 반복 횟수가 많아서 그런지, 결과값이 아무리 기다려도 나오지 않았다.  그래서 다른 방법을 알아보았다. max를 소인수 중에서 가장 큰 값이다.  그리고 n을 x의 값으로 계속해서 나눈다. max값에 나누어 x로 나누어 떨어질 때마다 계속해서 대입해 주었다. 그리고 출력해 주었다."
   ]
  },
  {
   "cell_type": "markdown",
   "metadata": {},
   "source": [
    "##소감 \n",
    "####처음 파이선을 배우는데, 모든 언어를 처음 배울 때도 그렇듯이 아직 미숙함도 많고, 헷갈리는 것도 정말 많았다. 다른 언어를 배운 경험때문에 이해하기는 쉬워도, 막상 그것을 사용하려는데 너무다 헷갈렸다. 열심히 코딩 연습하여 실력을 갈고 닦아야 겠다. 또한 소스트리 등을 이용해서 하는 방법도 설명으로 들었을 때에는 쉬웠으나 실제로 해보니 복잡한 것 같았는데, 완성하고 나니 다음에는 그방 할 것 같았다.  파이썬이라는 언어가 나의 주특기가 될 수 있도록 열심히 하여야 겠다."
   ]
  },
  {
   "cell_type": "code",
   "execution_count": null,
   "metadata": {
    "collapsed": true
   },
   "outputs": [],
   "source": []
  }
 ],
 "metadata": {
  "kernelspec": {
   "display_name": "Python 2",
   "language": "python",
   "name": "python2"
  },
  "language_info": {
   "codemirror_mode": {
    "name": "ipython",
    "version": 2
   },
   "file_extension": ".py",
   "mimetype": "text/x-python",
   "name": "python",
   "nbconvert_exporter": "python",
   "pygments_lexer": "ipython2",
   "version": "2.7.9"
  }
 },
 "nbformat": 4,
 "nbformat_minor": 0
}
