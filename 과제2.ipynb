{
 "cells": [
  {
   "cell_type": "markdown",
   "metadata": {},
   "source": [
    "#문제 1\n",
    "###다음 6개의 Expression에 대해 Evaluation 결과 값을 출력하고, 해당 결과가 나온 이유에 대해 설명하시오.\n",
    " ###-  1 and 2 and 3 and 4"
   ]
  },
  {
   "cell_type": "code",
   "execution_count": 1,
   "metadata": {
    "collapsed": false
   },
   "outputs": [
    {
     "name": "stdout",
     "output_type": "stream",
     "text": [
      "4\n"
     ]
    }
   ],
   "source": [
    "print 1 and 2 and 3 and 4"
   ]
  },
  {
   "cell_type": "markdown",
   "metadata": {},
   "source": [
    "#### and 연산자는 왼쪽부터 연산을 시작한다.  따라서 최종 연산되는 식은 3 and 4이다. 그 결과는 4이다.\n",
    "###-  1 or2 or 3 or 4"
   ]
  },
  {
   "cell_type": "code",
   "execution_count": 2,
   "metadata": {
    "collapsed": false
   },
   "outputs": [
    {
     "name": "stdout",
     "output_type": "stream",
     "text": [
      "1\n"
     ]
    }
   ],
   "source": [
    "print 1 or 2 or 3 or 4"
   ]
  },
  {
   "cell_type": "markdown",
   "metadata": {},
   "source": [
    "####and 연산은 왼쪽과 오른쪽 연산이 모두 참이어야 하는 반면에, or는 둘중 하나만 참이면 연산이 끝난다. or도 and와 마찬가지로 왼쪽부터 연산이 시작되는데,  1은 바로 참이므로 1을 바로 return 값으로 출력한다.\n",
    "###-  1 and 2 or 3 and 4"
   ]
  },
  {
   "cell_type": "code",
   "execution_count": 3,
   "metadata": {
    "collapsed": false
   },
   "outputs": [
    {
     "name": "stdout",
     "output_type": "stream",
     "text": [
      "2\n"
     ]
    }
   ],
   "source": [
    "print 1 and 2 or 3 and 4"
   ]
  },
  {
   "cell_type": "markdown",
   "metadata": {},
   "source": [
    "#### and와 or이 섞여 있을 때에는 왼쪽에 있는 연산부터 시작한다. 1 and 2 의 결과는 2이고 2 or 3의 결과는 2가 바로 참이므로 연산을 끝낸 후,  2를 return 한다.\n",
    "###-  (1 and 2) or (3 and 4)"
   ]
  },
  {
   "cell_type": "code",
   "execution_count": 4,
   "metadata": {
    "collapsed": false
   },
   "outputs": [
    {
     "name": "stdout",
     "output_type": "stream",
     "text": [
      "2\n"
     ]
    }
   ],
   "source": [
    "print (1 and 2) or (3 and 4)"
   ]
  },
  {
   "cell_type": "markdown",
   "metadata": {},
   "source": [
    "#### 어떠한 연산이는 괄호에 있는 연산부터 실시한다.  1 and 2 의 결과는 2,  3 and 4의 결과는 4, 마지막으로 2 or 4는 2가 참이므로 2를 return 한다.\n",
    "###-  1 or 2 and 3 or 4"
   ]
  },
  {
   "cell_type": "code",
   "execution_count": 5,
   "metadata": {
    "collapsed": false
   },
   "outputs": [
    {
     "name": "stdout",
     "output_type": "stream",
     "text": [
      "1\n"
     ]
    }
   ],
   "source": [
    "print 1 or 2 and 3 or 4"
   ]
  },
  {
   "cell_type": "markdown",
   "metadata": {},
   "source": [
    "#### or 과 and가 섞여 있으므로, 왼쪽부터 연산을 실시한다.  or 연산에서 왼쪽의 1이 참이므로 바로 이 연산을 끝낸다. \n",
    "###-  (1 or 2) and (3 or 4)"
   ]
  },
  {
   "cell_type": "code",
   "execution_count": 6,
   "metadata": {
    "collapsed": false
   },
   "outputs": [
    {
     "name": "stdout",
     "output_type": "stream",
     "text": [
      "3\n"
     ]
    }
   ],
   "source": [
    "print (1 or 2) and (3 or 4)"
   ]
  },
  {
   "cell_type": "markdown",
   "metadata": {},
   "source": [
    "#### (1 or 2)의 결과는 1, (3 or 4)의 결과는 3, 따라서 1 and 3의 결과는 3이다.\n",
    "#문제 2\n",
    "###키보드의 정수값을 입력 받고 그 값이 양수인지 음수인지를 비트 연산자를 이용하여 판단하는 프로그램을 작성하시오.\n",
    "###[참고]가장 왼쪽에 있는 비트가 0이면 양수이며, 1이면 음수이다.\n",
    "###[참고]수업보충자료를 참고하시오."
   ]
  },
  {
   "cell_type": "code",
   "execution_count": 15,
   "metadata": {
    "collapsed": false
   },
   "outputs": [
    {
     "name": "stdout",
     "output_type": "stream",
     "text": [
      "정수를 입력하시오 :-21\n",
      "음수입니다.\n"
     ]
    }
   ],
   "source": [
    "def bit(n):\n",
    "    count = n.bit_length()\n",
    "    n = n >> count\n",
    "    if n == 0:\n",
    "        return 1\n",
    "    else :\n",
    "        return 0\n",
    "number = input(u'정수를 입력하시오 :')\n",
    "if bit(number):\n",
    "    print u\"양수입니다.\"\n",
    "else:\n",
    "    print u\"음수입니다.\"\n",
    "    \n",
    "    "
   ]
  },
  {
   "cell_type": "markdown",
   "metadata": {},
   "source": [
    "#### bit()는 입력받은 정수가 음수인지 양수인지를 판별하기 위하여 비트이동을 해주는 함수이다. 양수는  해당하는 수를 표현하기 위한 비트의 개수만큼 오른쪽으로 비트이동 해주면 0이 되고, 음수는 -1이 된다.  그 원리를 이용하여 비트이동 하였을 시, 값이 0이 되면 1을 반환하고, 그 외에는 0을 반환하도록 하였다. 따라서 input()을 통하여 정수를 입력받은 수를 bit()에 넣으면 if문을 통하여 양수인지 음수인지를 구별하였다.\n",
    "\n",
    "#문제 3\n",
    "###경로에 해당하는 문자열 1개를 입력 받아 그 안에 디렉토리 경로명과 파일명을 분리하여 리스트로 반환하는 함수 div_path(s)를 작성하시오.\n",
    "###- 인자로 전달하는 문자열은 경로만 들어간다고 가정한다.\n",
    "###-각 디렉토리와 파일을 구분하는 문자는 '/'로 가정한다.\n",
    "###-반환하는 리스트의 첫번재 원소는 디렉토리이고 두번째 원소는 파일명이다.\n",
    "###-다음과 같은 실행 및 출력 결과가 도출되어야 한다.\n",
    "###   div_path('/usr/local/bin/python')\n",
    "###      ['/usr/local/bin', 'python']\n",
    "###   dif_path('/home/chulsoo/test.txt')\n",
    "###      ['/home/chulsoo', 'text.txt']"
   ]
  },
  {
   "cell_type": "code",
   "execution_count": 6,
   "metadata": {
    "collapsed": false
   },
   "outputs": [
    {
     "name": "stdout",
     "output_type": "stream",
     "text": [
      "경로를 입력하시오. :/usr/local/bin/python\n",
      "['/usr/local/bin', 'python']\n"
     ]
    }
   ],
   "source": [
    "def div_path(s):\n",
    "    n = 0\n",
    "    count = s.count('/')\n",
    "    n = s.find('/')\n",
    "    for x in range(0, count-1):\n",
    "        n = s.find('/', n+1)\n",
    "    str = s[0:n] + ',' + s[n+1:]\n",
    "    l = str.split(',')\n",
    "    return l\n",
    "\n",
    "str = raw_input(u'경로를 입력하시오. :')\n",
    "print div_path(str)\n"
   ]
  },
  {
   "cell_type": "markdown",
   "metadata": {},
   "source": [
    "#### div_path()는 먼저 '/'의 갯수를 세어야 한다. '/'의 개수인 count만큼 문자열 s에서 '/'의 위치를 찾아야 한다. '/'의 위치를 찾은 후, 슬라이싱을 통하여 새로운 문자열에 '/'을 제외하고 넣어준 후, '/' 대신 ','을 넣어주었다.  split()을 통하여 ','을 기준으로 리스트를 만들어 주었다."
   ]
  },
  {
   "cell_type": "markdown",
   "metadata": {},
   "source": [
    "#문제 4\n",
    "###두 개의 리스트를 인자로 받아서 그 두 개의 리스트에 대한 '합집합'을 반환하는 함수 list_union(lista, listb)를 작성하시오.\n",
    "###인자로 전달하는 리스트 2 개에는 정수값만 들어간다고 가정하자.\n",
    "###함수 내에서 새로운 리스트를 만들어 그 리스트 내에 인자로 받은 두 리스트의 모든 원소를 넣어 반환한다.\n",
    "###반환하는 리스트에는 절대로 중복된 원소가 들어 있으면 안된다 (집합의 조건).\n",
    "###반환하는 리스트는 정렬이 되어 있어야 한다.\n",
    "###다음과 같은 실행 및 출력 결과가 도출되어야 한다.\n",
    "###-list_union([1, 2, 3], [1, 2, 4])\n",
    "###-[1, 2, 3, 4]\n",
    "###-list_union([-10, -5, 0, -1], [100, 9, 0, 9])\n",
    "###-[-10, -5, -1, 0, 9, 100]\n",
    "###-list_union([0, 1, 2], [0, 1, 2])\n",
    "###-[0, 1, 2]"
   ]
  },
  {
   "cell_type": "code",
   "execution_count": 11,
   "metadata": {
    "collapsed": false
   },
   "outputs": [
    {
     "name": "stdout",
     "output_type": "stream",
     "text": [
      "[0, 1, 2, 3, 4, 5, 6, 9]\n"
     ]
    }
   ],
   "source": [
    "def list_union(a, b):\n",
    "    for x in range(0, len(b)):\n",
    "        if b[x] not in a:\n",
    "            a.append(b[x])\n",
    "        a.sort()        \n",
    "    return a\n",
    "a = [2, 4, 6, 3, 1]\n",
    "b = [9, 3, 5, 2, 0]\n",
    "print list_union(a, b)"
   ]
  },
  {
   "cell_type": "markdown",
   "metadata": {},
   "source": [
    "#### list_union(a, b)는 리스트 b의 각각의 원소들을 리스트 a에 있는지를 비교하여, 중복되지 않을 경우, a에 b의 원소를 더해준다. 그 과정이 끝난 후, sort()를 통하여 정렬을 해준 후, a를 return해준다.\n",
    "\n",
    "#오일러 4\n",
    "###앞에서부터 읽을 때나 뒤에서부터 읽을 때나 모양이 같은 수를 대칭수(palindrome)라고 부릅니다.\n",
    "###두 자리 수를 곱해 만들 수 있는 대칭수 중 가장 큰 수는 9009 (= 91 × 99) 입니다.\n",
    "###세 자리 수를 곱해 만들 수 있는 가장 큰 대칭수는 얼마입니까?"
   ]
  },
  {
   "cell_type": "code",
   "execution_count": 18,
   "metadata": {
    "collapsed": false
   },
   "outputs": [
    {
     "name": "stdout",
     "output_type": "stream",
     "text": [
      "906609\n"
     ]
    }
   ],
   "source": [
    "def palindrome(n):\n",
    "    s = str(n)\n",
    "    for x in range(0, len(s)/2):\n",
    "        if s[x] != s[len(s)-1-x]:\n",
    "            return 0\n",
    "    return 1\n",
    "max = 0\n",
    "for x in range(100, 1000):\n",
    "    for y in range(100, 1000):\n",
    "        if palindrome(x*y)==1:\n",
    "            if x*y > max:\n",
    "                max = x*y\n",
    "print max"
   ]
  },
  {
   "cell_type": "markdown",
   "metadata": {},
   "source": [
    "#### 대칭수인지 아닌지를 구별해주는 palindrome()함수를 만들어 준다. str()을 통하여 입력받은 수를 문자열로 변환시켜준다. 그리고 for문을 통하여 문자열의 맨앞과 맨뒤부터 차례대로 값을 비교해준다. 값이 하나라도 다를 시 0을 return해주고, 모두 같을 시, 1를 return 해준다. 100x100부터 999x999까지 모두 함수에 넣어주어 제일 큰 수를 찾아준다.\n",
    "\n",
    "#오일러 5\n",
    "###1 ~ 10 사이의 어떤 수로도 나누어 떨어지는 가장 작은 수는 2520입니다.\n",
    "###그러면 1 ~ 20 사이의 어떤 수로도 나누어 떨어지는 가장 작은 수는 얼마입니까?\n"
   ]
  },
  {
   "cell_type": "code",
   "execution_count": 1,
   "metadata": {
    "collapsed": false
   },
   "outputs": [
    {
     "name": "stdout",
     "output_type": "stream",
     "text": [
      "232792560\n"
     ]
    }
   ],
   "source": [
    "def devide(x):\n",
    "    for n in range(2, 21):\n",
    "        if x%n != 0:\n",
    "            return 0\n",
    "    return 1\n",
    "\n",
    "        \n",
    "x = 21\n",
    "while True:\n",
    "    if devide(x) == 0:\n",
    "        x = x+1\n",
    "    else:\n",
    "        print x\n",
    "        break;\n",
    "    \n",
    "        "
   ]
  },
  {
   "cell_type": "markdown",
   "metadata": {},
   "source": [
    "####1~20사이의 수로 나누어지는지 확인해 주는 함수 devide를 만들어 준다. 2부터 20까지의 수로 나누어서 나누어지면 0을 반환, 아니면 1을 반환한다.  while문을 이용하여 21부터 devide()결과가 1이 나올때 까지 반복한다.\n",
    "\n",
    "\n",
    "#오일러 6\n",
    "###1부터 10까지 자연수를 각각 제곱해 더하면 다음과 같습니다 (제곱의 합).\n",
    "###12 + 22 + ... + 102 = 385\n",
    "###1부터 10을 먼저 더한 다음에 그 결과를 제곱하면 다음과 같습니다 (합의 제곱).\n",
    "###(1 + 2 + ... + 10)2 = 552 = 3025\n",
    "###따라서 1부터 10까지 자연수에 대해 \"합의 제곱\"과 \"제곱의 합\" 의 차이는 3025 - 385 = 2640 이 됩니다.\n",
    "###그러면 1부터 100까지 자연수에 대해 \"합의 제곱\"과 \"제곱의 합\"의 차이는 얼마입니까?\n",
    "\n"
   ]
  },
  {
   "cell_type": "code",
   "execution_count": 1,
   "metadata": {
    "collapsed": false
   },
   "outputs": [
    {
     "name": "stdout",
     "output_type": "stream",
     "text": [
      "25164150\n"
     ]
    }
   ],
   "source": [
    "sum1 = 0\n",
    "sum2 = 0\n",
    "for x in range(1, 101):\n",
    "    sum1 = sum1 + x*x\n",
    "for y in range(1, 101):\n",
    "    sum2 = sum2 + y\n",
    "sum2 = sum2*sum2\n",
    "print sum2-sum1"
   ]
  },
  {
   "cell_type": "markdown",
   "metadata": {},
   "source": [
    "####sum1은 제곱의 합이고, sum2는 합의 제곱이다. 따라서 각각 for문을 통하여 입력헤주었다. \n",
    "\n",
    "\n",
    "#문제\n",
    "###•[Incremental Project] 웹 URL로 지정된 웹페이지를 문자열로 가져와 1) 모든 HTML 태그를 제외한 순수 텍스트 문자열만을 걸러내고, 2) 그 순수 텍스트 문자열 안에 존재하는 단어가 총 몇개인지 출력하는 프로그램을 작성하시오."
   ]
  },
  {
   "cell_type": "code",
   "execution_count": 9,
   "metadata": {
    "collapsed": false
   },
   "outputs": [
    {
     "name": "stdout",
     "output_type": "stream",
     "text": [
      "\n",
      "\n",
      "\n",
      "\n",
      "\n",
      "\n",
      "\n",
      "\n",
      "컴퓨터공학부\n",
      "\n",
      "\n",
      "\n",
      "\n",
      "\n",
      "\n",
      "\n",
      "\n",
      "\n",
      "\n",
      "\n",
      "\n",
      "\n",
      "\n",
      "\n",
      "\n",
      "\n",
      "\n",
      "\n",
      "\n",
      "\n",
      "\n",
      "\n",
      "\n",
      "\n",
      "\n",
      "\n",
      "\n",
      "\n",
      "//\n",
      "\n",
      "\n",
      "\n",
      "\n",
      "\n",
      "\n",
      "\t\n",
      "\tSchoolfun - Study and Fun\n",
      "\t\n",
      "\t\n",
      "\t\n",
      "\t\t\n",
      "\t\n",
      "\t\n",
      "\t\t\n",
      "\t\t\t\n",
      "\n",
      "\n",
      "\n",
      "\t\n",
      "\t\t\n",
      "\t\t\t\n",
      "\t\t\t\t\n",
      "\t\t\t\t\n",
      "\t\t\t\t\n",
      "\t\t\t\n",
      "\t\t\t\n",
      "\t\t\t\n",
      "\t\t\t\t\n",
      "\t\t\t\t\t\t\t\t\t\t\n",
      "\t\t\t\t\n",
      "\t\t\t\t-->\n",
      "\t\t\t\t\t\t\t\t\t\n",
      "\t\t\t\t\t\n",
      "\t로그인\n",
      "\t\n",
      "\t\t로그인\n",
      "\t\t\n",
      "\t\t\n",
      "\t\t\n",
      "\t\t\t\t\n",
      "\t\t\t아이디\t\t\t\t\t\t\t\t\t\t\t\t비밀번호\n",
      "\t\t\t\n",
      "\t\t\t\n",
      "\t\t\t\t\n",
      "\t\t\t\t로그인 유지\n",
      "\t\t\t\n",
      "\t\t\t브라우저를 닫더라도 로그인이 계속 유지될 수 있습니다. 로그인 유지 기능을 사용할 경우 다음 접속부터는 로그인할 필요가 없습니다. 단, 게임방, 학교 등 공공장소에서 이용 시 개인정보가 유출될 수 있으니 꼭 로그아웃을 해주세요.\n",
      "\t\t\n",
      "\t\t\n",
      "\t\t\n",
      "\t\t\t회원가입\n",
      "\t\t\tID/PW 찾기\n",
      "\t\t\n",
      "\t\n",
      "\n",
      "\n",
      "\t\t\t\t\n",
      "\t\t\t\tIT 교육의 글로벌 메카!한국기술교육대학교 컴퓨터공학부\n",
      "\t\t\t\n",
      "\t\t\n",
      "\t\n",
      "\t\n",
      "\t\tClose\n",
      "\t\t\n",
      "\t\t\t\n",
      "\t\t\t\t\n",
      "\t\t\t\t\n",
      "\t\t\t\t\n",
      "\t\t\t\n",
      "\t\t\t\n",
      "\t\t\t\t\t\t\t\t\n",
      "\t\t\t\t\t\t\t\t\t\t소개\n",
      "\t\t\t\t\t\t\t\t\t\t\n",
      "\t\t\t\t\n",
      "\t\t\t\t\t\t\t\t\t\t\t\t\t\n",
      "\t\t\t\t\t\t\t\t\t\t구성원소개\n",
      "\t\t\t\t\t\t\t\t\t\t\n",
      "\t\t\t\t\n",
      "\t\t\t\t\t\t\t\t\t\t\t\t\t\n",
      "\t\t\t\t\t\t\t\t\t\t학사안내\n",
      "\t\t\t\t\t\t\t\t\t\t\n",
      "\t\t\t\t\n",
      "\t\t\t\t\t\t\t\t\t\t\t\t\t\n",
      "\t\t\t\t\t\t\t\t\t\t입학\n",
      "\t\t\t\t\t\n",
      "                        학부\n",
      "                        대학원\n",
      "                    \n",
      "\t\t\t\t\t\t\t\t\t\t\n",
      "\t\t\t\t\n",
      "\t\t\t\t\t\t\t\t\t\t\t\t\t\n",
      "\t\t\t\t\t\t\t\t\t\t학부광장\n",
      "\t\t\t\t\t\t\t\t\t\t\n",
      "\t\t\t\t\n",
      "\t\t\t\t\t\t\t\t\t\t\t\t\t\n",
      "\t\t\t\t\t\t\t\t\t\t자료실\n",
      "\t\t\t\t\t\t\t\t\t\t\n",
      "\t\t\t\t\n",
      "\t\t\t\t\t\t\t\t\t\t\t\t\t\n",
      "\t\t\t\t\t\t\t\t\t\t대학원\n",
      "\t\t\t\t\t\t\t\t\t\t\n",
      "\t\t\t\t\n",
      "\t\t\t\t\t\t\t\t\t\t\t\t\t\n",
      "\t\t\t\t\t\t\t\t\t\t공학교육인증\n",
      "\t\t\t\t\t\t\t\t\t\t\n",
      "\t\t\t\t\n",
      "\t\t\t\t\t\t\t\t\t\t\t\t\t\n",
      "\t\t\t\t\t\t\t\t\t\t\n",
      "\t\t\t\t\t\t\t\t\t\t\n",
      "\t\t\t\t\n",
      "\t\t\t\t\t\t\t\t\t\t\t\t\t\n",
      "\t\t\t\n",
      "                        \t\t\tRegistration\n",
      "                        \t\t\n",
      "\t\n",
      "      \n",
      "\t        \t        \n",
      "\n",
      "\n",
      "    \n",
      "        \n",
      "            컴퓨터공학부\n",
      "                School of Computer Science and Engineering\n",
      "                \n",
      "            \n",
      "            \n",
      "                IT 융합소프트웨어 인력양성사업\n",
      "                CK (Creative Korea)-I\n",
      "                \n",
      "            \n",
      "            \n",
      "                교육역량강화사업 온라인 컨텐츠\n",
      "                Online Contents for Education Capability Empowerment\n",
      "                \n",
      "            \n",
      "        \n",
      "    \n",
      "\t\n",
      "        \n",
      "        \n",
      "        \n",
      "            \n",
      "                IT 교육의 글로벌 메카\n",
      "                한국기술교육대학교 컴퓨터공학부 홈페이지에 오신 것을환영합니다!\n",
      "            \n",
      "        \n",
      "    \n",
      "    \n",
      "        \n",
      "        \n",
      "\t\n",
      "            \n",
      "                IT 융합소프트웨어 인력양성사업\n",
      "                글로벌 수준의 IT전문인력 양성\n",
      "IT융합분야에 대한 국제적인 경쟁력 고취\n",
      "                바로가기\n",
      "            \n",
      "        \n",
      "    \n",
      "    \n",
      "        \n",
      "        \n",
      "\t\n",
      "            \n",
      "                교육역량강화사업 컨텐츠\n",
      "                교육역량강화사업 온라인 컨텐츠를 소개합니다.\n",
      "                바로가기\n",
      "            \n",
      "        \n",
      "    \n",
      "\n",
      "\n",
      "\n",
      "    \t\t\n",
      "    \n",
      "\n",
      "\t\n",
      "                공지사항\n",
      "    \n",
      "                    \n",
      "                                                                                        [특성화] 토익, 오픽 강좌 수요조사 공고\n",
      "                                                                                                                            2015-10-06 16:41 16:41\n",
      "                                    \n",
      "                \n",
      "                                                                                        [특성화] IT융합 개도국 해외기술지원봉사 참가자 모집...\n",
      "                                                                                                                            2015-10-05 16:38 16:38\n",
      "                                    \n",
      "                \n",
      "                                                                                        [특성화] 장비대여 안내\n",
      "                                                                                                                            2015-10-05 15:28 15:28\n",
      "                                    \n",
      "                \n",
      "                                                                                        제4회 TOPCIT 정기평가\n",
      "                                                                                                                            2015-10-05 14:56 14:56\n",
      "                                    \n",
      "                \n",
      "                                                                                        [특성화] 국제게임전시회 G-star 2015 참관 안내\n",
      "                                                                                                                            2015-10-05 11:51 11:51\n",
      "                                    \n",
      "            \n",
      "            \n",
      "\n",
      "\n",
      "\n",
      "\n",
      "\t\n",
      "                자유게시판\n",
      "    \n",
      "                    \n",
      "                                                                                        (주) 엔에스이 에서 개발자를 모집합니다.\n",
      "                                                                                                                            2015-09-30 13:30 13:30\n",
      "                                    \n",
      "                \n",
      "                                                                                        졸업작품 전시회 컴퓨터공학부 인기상 투표 이벤트\n",
      "                                                                                                                            2015-09-25 01:21 01:21\n",
      "                                    \n",
      "                \n",
      "                                                                                        삼성 대학생 프로그래밍 경진대회\n",
      "                                                                                                                            2015-09-15 11:17 11:17\n",
      "                                    \n",
      "                \n",
      "                                                                                        2015년 4차 모의토익 지원\n",
      "                                                                                                                            2015-09-09 23:34 23:34\n",
      "                                    \n",
      "                \n",
      "                                                                                        난 괜찮아, 돌아가면 되지~\n",
      "                                                                                                                            2015-09-09 15:51 15:51\n",
      "                                    \n",
      "            \n",
      "            \n",
      "\n",
      "\n",
      "\n",
      "\n",
      "\t\n",
      "                취업게시판\n",
      "    \n",
      "                    \n",
      "                                                                                        [특성화] (주)KMW  인턴사원 모집공고\n",
      "                                                                                                                            2015-09-23 14:31 14:31\n",
      "                                    \n",
      "                \n",
      "                                                                                        ㈜인젠트 기술연구소 전문연구요원 모집\n",
      "                                                                                                                            2015-09-14 11:54 11:54\n",
      "                                    \n",
      "                \n",
      "                                                                                        펜타인 2015년도 신입사원 채용공고\n",
      "                                                                                                                            2015-09-03 16:16 16:16\n",
      "                                    \n",
      "                \n",
      "                                                                                        LIG인베니아 (코스닥상장 LIG그룹사 디스플레이장비전...\n",
      "                                                                                                                            2015-09-03 14:01 14:01\n",
      "                                    \n",
      "                \n",
      "                                                                                        ㈜ 한울 소프트웨어 개발자\n",
      "                                                                                                                            2015-06-18 10:28 10:28\n",
      "                                    \n",
      "            \n",
      "            \n",
      "\n",
      "\n",
      "\n",
      "\n",
      "\t\n",
      "                VENTURESQUARE\n",
      "    \n",
      "                    \n",
      "                                                                                        경기창조경제혁신센터,  IoT 분야 보육기업 4개사 추가...\n",
      "                                                                                    \n",
      "                                                                                    2015-10-06 16:37 16:37\n",
      "                                    \n",
      "                \n",
      "                                                                                        [펀다 매거진] 핀테크, 금융과 기술의 만남 #5\n",
      "                                                                                    \n",
      "                                                                                    2015-10-06 15:25 15:25\n",
      "                                    \n",
      "                \n",
      "                                                                                        업계 최고 슈퍼 멘토에게 배우자 인터랙티브 교육 ‘클...\n",
      "                                                                                    \n",
      "                                                                                    2015-10-06 15:12 15:12\n",
      "                                    \n",
      "                \n",
      "                                                                                        우리에게 없는건 시간이 아니다\n",
      "                                                                                    \n",
      "                                                                                    2015-10-06 14:57 14:57\n",
      "                                    \n",
      "                \n",
      "                                                                                        [코리안 스타트업을 위한 글로벌 여행 티켓] 87편.스타...\n",
      "                                                                                    \n",
      "                                                                                    2015-10-06 14:50 14:50\n",
      "                                    \n",
      "            \n",
      "            \n",
      "\n",
      "\n",
      "\n",
      "\n",
      "\t\n",
      "                전자신문\n",
      "    \n",
      "                    \n",
      "                                                                                        [ET단상]주파수할당, 사회 효율성을 핵심 가치로\n",
      "                                                                                    \n",
      "                                                                                    2015-10-06 18:00 18:00\n",
      "                                    \n",
      "                \n",
      "                                                                                        [해설]2.1㎓ 경매 `3사3색` 주장...업계 \"경매방식 명...\n",
      "                                                                                    \n",
      "                                                                                    2015-10-06 18:00 18:00\n",
      "                                    \n",
      "                \n",
      "                                                                                        세계 최초 3밴드 LTE-A 공방 일단락···KT, SKT 상대 소...\n",
      "                                                                                    \n",
      "                                                                                    2015-10-06 18:00 18:00\n",
      "                                    \n",
      "                \n",
      "                                                                                        [ET단상]방송 콘텐츠 글로벌 유통 활성화를 위한 전략\n",
      "                                                                                    \n",
      "                                                                                    2015-10-06 18:00 18:00\n",
      "                                    \n",
      "                \n",
      "                                                                                        2.1㎓ 주파수경매 논란 `점입가경`…통신3사 `동상삼몽`\n",
      "                                                                                    \n",
      "                                                                                    2015-10-06 18:00 18:00\n",
      "                                    \n",
      "            \n",
      "            \n",
      "\n",
      "\n",
      "\n",
      "\n",
      "\t\n",
      "                RE/CODE\n",
      "    \n",
      "                    \n",
      "                                                                                        Look, More Apple Watch Commercials!\n",
      "                                                                                    \n",
      "                                                                                    2015-10-06 12:39 12:39\n",
      "                                    \n",
      "                \n",
      "                                                                                        Amazon Is Absolutely Eviscerating Other Retail...\n",
      "                                                                                    \n",
      "                                                                                    2015-10-06 12:00 12:00\n",
      "                                    \n",
      "                \n",
      "                                                                                        Twitter General Counsel Vijaya Gadde Also Pull...\n",
      "                                                                                    \n",
      "                                                                                    2015-10-06 11:02 11:02\n",
      "                                    \n",
      "                \n",
      "                                                                                        Here’s What Sony Execs Said About Laurene Powe...\n",
      "                                                                                    \n",
      "                                                                                    2015-10-06 10:31 10:31\n",
      "                                    \n",
      "                \n",
      "                                                                                        #ThisPlaceMatters, a Celebration of Personal L...\n",
      "                                                                                    \n",
      "                                                                                    2015-10-06 08:27 08:27\n",
      "                                    \n",
      "            \n",
      "            \n",
      "\n",
      "\n",
      "    \n",
      "\n",
      "\n",
      "\n",
      "    \n",
      "        Back to Top\n",
      "    \n",
      "    \n",
      "        Leading Together for Brighter Future\n",
      "    \n",
      "    -->\n",
      "    \n",
      "        \n",
      "            \n",
      "                \n",
      "                    \n",
      "                        Quick Navigation\n",
      "                        \n",
      "                            한국기술교육대학교 홈페이지\n",
      "                            한국기술교육대학교 WEBMAIL\n",
      "                            한국기술교육대학교 온라인 평생교육원\n",
      "                            교육역량강화사업 온라인 컨텐츠\n",
      "                            컴퓨터공학부 포트폴리오-->\n",
      "                            IT 융합소프트웨어 인력양성사업\n",
      "                        \n",
      "                    \n",
      "                \n",
      "            \n",
      "            \n",
      "                \n",
      "                    \n",
      "                        Campus Location\n",
      "                        \n",
      "\t                        \n",
      "                    \n",
      "                \n",
      "            \n",
      "\n",
      "                \n",
      "                    Contact CSE\n",
      "                충청남도 천안시 동남구 병천면 충절로 1600한국기술교육대학교 컴퓨터공학부 학과사무실 TEL (041) 560 1460~1461 FAX (041) 560 1462\n",
      "                \n",
      "                    Facebook\n",
      "                    Twitter\n",
      "                    Google Plus\n",
      "                    Linkedin\n",
      "Youtube\n",
      "                    Flickr-->\n",
      "                \n",
      "                \n",
      "            \n",
      "        \n",
      "    \n",
      "    \n",
      "        \n",
      "            \n",
      "            (31253) 충청남도 천안시 동남구 병천면 충절로 1600 (가전리, 한국기술교육대학교) 컴퓨터공학부 \n",
      "            Copyright © 2015. All rights reserved\n",
      "        \n",
      "    \n",
      "\n",
      "\n",
      "\n",
      "\n",
      "\n",
      "\n",
      "\n",
      "\n",
      "\n"
     ]
    }
   ],
   "source": [
    "import urllib2\n",
    "\n",
    "source = urllib2.urlopen(\"http://cse.kut.ac.kr/\").read()\n",
    "\n",
    "length = len(source)\n",
    "s = \"\"\n",
    "n = 1\n",
    "for x in range(0, length):\n",
    "    if n==1:\n",
    "        if source[x] == '<':\n",
    "            n = 0\n",
    "            pass\n",
    "        else:\n",
    "            s = s + source[x]\n",
    "    elif n==0:\n",
    "        if source[x] == '>':\n",
    "            n = 1\n",
    "        else:\n",
    "            pass\n",
    "print s\n",
    "l = s.split()\n"
   ]
  },
  {
   "cell_type": "markdown",
   "metadata": {
    "collapsed": true
   },
   "source": [
    "#### 먼저 소스의 길이를 변수에 넣어주었다. 그리고 비어있는 문자열 s에 < >와 그 사이에 있는 문자열을 제거하여 넣어주었다. 변수 n==1 일 경우에는 넣어주고, <를 만나면 n=0을 하여 >가 나올때 까지 넣지 않는다. 먼저 문자열 s를 출력 후, 마지막은 split()을 통하여 리스트를 만들어 단어의 개수를 출력해준다."
   ]
  },
  {
   "cell_type": "code",
   "execution_count": 8,
   "metadata": {
    "collapsed": false
   },
   "outputs": [
    {
     "name": "stdout",
     "output_type": "stream",
     "text": [
      "444\n"
     ]
    }
   ],
   "source": [
    "print len(l)"
   ]
  },
  {
   "cell_type": "markdown",
   "metadata": {},
   "source": [
    "#### 단어의 개수"
   ]
  },
  {
   "cell_type": "code",
   "execution_count": null,
   "metadata": {
    "collapsed": true
   },
   "outputs": [],
   "source": []
  }
 ],
 "metadata": {
  "kernelspec": {
   "display_name": "Python 2",
   "language": "python",
   "name": "python2"
  },
  "language_info": {
   "codemirror_mode": {
    "name": "ipython",
    "version": 2
   },
   "file_extension": ".py",
   "mimetype": "text/x-python",
   "name": "python",
   "nbconvert_exporter": "python",
   "pygments_lexer": "ipython2",
   "version": "2.7.9"
  }
 },
 "nbformat": 4,
 "nbformat_minor": 0
}
